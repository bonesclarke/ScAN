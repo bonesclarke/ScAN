{
 "cells": [
  {
   "cell_type": "code",
   "execution_count": 1,
   "id": "beea905f",
   "metadata": {},
   "outputs": [
    {
     "name": "stderr",
     "output_type": "stream",
     "text": [
      "/home/bhanupratap/miniconda3/envs/umls/lib/python3.7/site-packages/clinical_sectionizer/__init__.py:3: RuntimeWarning: clinical_sectionizer is now *deprecated*. Please use medspacy.section_detection instead: `pip install medspacy`\n",
      "  warnings.warn(\"clinical_sectionizer is now *deprecated*. Please use medspacy.section_detection instead: `pip install medspacy`\", RuntimeWarning)\n"
     ]
    }
   ],
   "source": [
    "import re\n",
    "import csv\n",
    "import sys\n",
    "import pprint\n",
    "import pandas as pd\n",
    "import pickle as pkl\n",
    "from os.path import join\n",
    "from os import listdir, path\n",
    "from tqdm.notebook import tqdm\n",
    "from clinical_sectionizer import TextSectionizer"
   ]
  },
  {
   "cell_type": "code",
   "execution_count": 2,
   "id": "f51c2f1b",
   "metadata": {},
   "outputs": [
    {
     "name": "stdout",
     "output_type": "stream",
     "text": [
      "{'case management ': {'observation_and_plan': {'assessment:': 1}},\n",
      " 'consult': {'past_medical_history': {'past medical history:': 1},\n",
      "             'sexual_and_social_history': {'social history:': 2}},\n",
      " 'discharge summary': {None: {None: 12},\n",
      "                       'allergy': {'allergies:': 65,\n",
      "                                   'allergy': 4,\n",
      "                                   'sensitivities:': 5},\n",
      "                       'family_history': {'family history:': 152},\n",
      "                       'hiv_screening': {'hiv:': 2},\n",
      "                       'labs_and_studies': {'indication:': 6,\n",
      "                                            'laboratory data:': 28,\n",
      "                                            'labs:': 44,\n",
      "                                            'micro:': 8,\n",
      "                                            'pathology report:': 1},\n",
      "                       'medication': {'discharge medications:': 1,\n",
      "                                      'medications on discharge:': 1,\n",
      "                                      'medications:': 1},\n",
      "                       'observation_and_plan': {'a/p:': 24,\n",
      "                                                'a:': 80,\n",
      "                                                'ass:': 1,\n",
      "                                                'assessment and plan:': 10,\n",
      "                                                'assessment/plan:': 3,\n",
      "                                                'assessment:': 5,\n",
      "                                                'diagnoses:': 20,\n",
      "                                                'diagnosis:': 29,\n",
      "                                                'discharge diagnoses:': 22,\n",
      "                                                'discharge diagnosis:': 148,\n",
      "                                                'imp:': 2,\n",
      "                                                'impression ': 3,\n",
      "                                                'impression:': 114,\n",
      "                                                'initial assessment:': 1,\n",
      "                                                'interpretation:': 1,\n",
      "                                                'plan:': 4,\n",
      "                                                'recommendations:': 4},\n",
      "                       'other': {'note:': 6, 'procedure:': 2, 'sp:': 10},\n",
      "                       'past_medical_history': {'history:': 46,\n",
      "                                                'medical history': 13,\n",
      "                                                'mh': 71,\n",
      "                                                'mhx': 30,\n",
      "                                                'past medical': 2,\n",
      "                                                'past medical history': 35,\n",
      "                                                'past medical history:': 349,\n",
      "                                                'past medical hx': 1,\n",
      "                                                'pmh:': 20},\n",
      "                       'patient_instructions': {'discharge instructions:': 78},\n",
      "                       'physical_exam': {'exam:': 2,\n",
      "                                         'pe:': 9,\n",
      "                                         'physical exam:': 93,\n",
      "                                         'physical examination': 26,\n",
      "                                         'review of systems:': 1},\n",
      "                       'present_illness': {'history of present illness:': 294,\n",
      "                                           'history of the present illness:': 5},\n",
      "                       'problem_list': {'problem list': 1},\n",
      "                       'sexual_and_social_history': {'sh:': 8,\n",
      "                                                     'social history:': 76}},\n",
      " 'echo': {'labs_and_studies': {'indication:': 2}},\n",
      " 'general': {None: {None: 10},\n",
      "             'family_history': {'family history:': 1},\n",
      "             'medication': {'meds:': 2}},\n",
      " 'nursing': {None: {None: 743},\n",
      "             'labs_and_studies': {'labs:': 1},\n",
      "             'medication': {'drugs:': 4, 'meds:': 8},\n",
      "             'observation_and_plan': {'a/p:': 1,\n",
      "                                      'assessment:': 396,\n",
      "                                      'plan:': 413},\n",
      "             'other': {'note:': 7, 'sp:': 6},\n",
      "             'past_medical_history': {'clinical history:': 3,\n",
      "                                      'history:': 81,\n",
      "                                      'mh': 141,\n",
      "                                      'mhx': 38,\n",
      "                                      'past medical history': 17,\n",
      "                                      'past medical history:': 11,\n",
      "                                      'pmh:': 80},\n",
      "             'present_illness': {'history of present illness:': 3,\n",
      "                                 'present illness:': 1},\n",
      "             'sexual_and_social_history': {'social history:': 13}},\n",
      " 'nursing/other': {None: {None: 405},\n",
      "                   'allergy': {'allergies:': 17, 'allergy': 1, 'allergy:': 5},\n",
      "                   'labs_and_studies': {'labs:': 3, 's/o:': 4},\n",
      "                   'medication': {'meds:': 3},\n",
      "                   'observation_and_plan': {'a/p:': 15,\n",
      "                                            'a:': 32,\n",
      "                                            'assessment:': 1,\n",
      "                                            'impression ': 1,\n",
      "                                            'plan:': 75},\n",
      "                   'other': {'note:': 50, 'sp:': 79},\n",
      "                   'past_medical_history': {'medical history': 1,\n",
      "                                            'medical hx': 1,\n",
      "                                            'mh': 69,\n",
      "                                            'mhx': 13,\n",
      "                                            'past medical history': 3,\n",
      "                                            'pmh:': 38},\n",
      "                   'physical_exam': {'review of systems:': 14},\n",
      "                   'sexual_and_social_history': {'sh:': 3}},\n",
      " 'nutrition': {'labs_and_studies': {'labs:': 3},\n",
      "               'past_medical_history': {'mh': 14, 'mhx': 8, 'pmh:': 1}},\n",
      " 'physician ': {None: {None: 277},\n",
      "                'allergy': {'allergies:': 3},\n",
      "                'family_history': {'family history:': 5},\n",
      "                'labs_and_studies': {'labs:': 405, 'micro:': 14},\n",
      "                'medication': {'current medications:': 2,\n",
      "                               'drugs:': 5,\n",
      "                               'meds:': 1},\n",
      "                'observation_and_plan': {'a/p:': 7,\n",
      "                                         'a:': 115,\n",
      "                                         'assesment:': 3,\n",
      "                                         'assessment and plan:': 17,\n",
      "                                         'assessment:': 10,\n",
      "                                         'diagnoses:': 1,\n",
      "                                         'diagnosis:': 2,\n",
      "                                         'impression:': 21,\n",
      "                                         'medical decision making:': 1,\n",
      "                                         'plan:': 31},\n",
      "                'other': {'note:': 11},\n",
      "                'past_medical_history': {'clinical history:': 2,\n",
      "                                         'history:': 17,\n",
      "                                         'medical history': 4,\n",
      "                                         'mh': 76,\n",
      "                                         'mhx': 34,\n",
      "                                         'past medical': 1,\n",
      "                                         'past medical history': 23,\n",
      "                                         'past medical history:': 8,\n",
      "                                         'pmh:': 11},\n",
      "                'physical_exam': {'physical examination': 19,\n",
      "                                  'review of systems:': 8},\n",
      "                'problem_list': {'problem list': 1},\n",
      "                'sexual_and_social_history': {'sh:': 10,\n",
      "                                              'social history:': 222}},\n",
      " 'radiology': {None: {None: 16},\n",
      "               'labs_and_studies': {'clinical indication:': 1,\n",
      "                                    'indication:': 32},\n",
      "               'observation_and_plan': {'diagnosis:': 119, 'impression ': 2},\n",
      "               'other': {'procedure:': 1},\n",
      "               'past_medical_history': {'clinical history:': 2,\n",
      "                                        'history:': 21}},\n",
      " 'rehab services': {None: {None: 1},\n",
      "                    'past_medical_history': {'history:': 4, 'pmh:': 2}},\n",
      " 'respiratory ': {None: {None: 1}, 'observation_and_plan': {'assessment:': 1}},\n",
      " 'social work': {None: {None: 26},\n",
      "                 'family_history': {'family history:': 5},\n",
      "                 'observation_and_plan': {'assessment:': 50, 'plan:': 3},\n",
      "                 'other': {'note:': 13},\n",
      "                 'past_medical_history': {'history:': 49,\n",
      "                                          'medical hx': 2,\n",
      "                                          'mh': 2},\n",
      "                 'present_illness': {'history of present illness:': 1}}}\n"
     ]
    },
    {
     "name": "stderr",
     "output_type": "stream",
     "text": [
      "/home/bhanupratap/miniconda3/envs/umls/lib/python3.7/site-packages/ipykernel/ipkernel.py:283: DeprecationWarning: `should_run_async` will not call `transform_cell` automatically in the future. Please pass the result to `transformed_cell` argument and any exception that happen during thetransform in `preprocessing_exc_tuple` in IPython 7.17 and above.\n",
      "  and should_run_async(code)\n"
     ]
    }
   ],
   "source": [
    "section_guidelines = {'discharge summary': {'sexual_and_social_history': {'social history:': 76, 'sh:': 8}, 'physical_exam': {'physical exam:': 93, 'physical examination': 26, 'pe:': 9, 'review of systems:': 1, 'exam:': 2}, 'observation_and_plan': {'a:': 80, 'discharge diagnosis:': 148, 'impression:': 114, 'diagnosis:': 29, 'assessment/plan:': 3, 'diagnoses:': 20, 'a/p:': 24, 'discharge diagnoses:': 22, 'recommendations:': 4, 'assessment and plan:': 10, 'impression ': 3, 'initial assessment:': 1, 'plan:': 4, 'assessment:': 5, 'imp:': 2, 'ass:': 1, 'interpretation:': 1}, 'present_illness': {'history of present illness:': 294, 'history of the present illness:': 5}, 'past_medical_history': {'past medical history:': 349, 'history:': 46, 'past medical history': 35, 'mh': 71, 'mhx': 30, 'medical history': 13, 'pmh:': 20, 'past medical hx': 1, 'past medical': 2}, 'patient_instructions': {'discharge instructions:': 78}, 'family_history': {'family history:': 152}, 'labs_and_studies': {'laboratory data:': 28, 'labs:': 44, 'micro:': 8, 'indication:': 6, 'pathology report:': 1}, 'allergy': {'allergies:': 65, 'allergy': 4, 'sensitivities:': 5}, None: {None: 12}, 'other': {'note:': 6, 'sp:': 10, 'procedure:': 2}, 'hiv_screening': {'hiv:': 2}, 'medication': {'discharge medications:': 1, 'medications on discharge:': 1, 'medications:': 1}, 'problem_list': {'problem list': 1}}, 'echo': {'labs_and_studies': {'indication:': 2}}, 'nursing': {'observation_and_plan': {'assessment:': 396, 'plan:': 413, 'a/p:': 1}, 'past_medical_history': {'mh': 141, 'history:': 81, 'pmh:': 80, 'mhx': 38, 'past medical history:': 11, 'past medical history': 17, 'clinical history:': 3}, None: {None: 743}, 'sexual_and_social_history': {'social history:': 13}, 'medication': {'drugs:': 4, 'meds:': 8}, 'other': {'sp:': 6, 'note:': 7}, 'labs_and_studies': {'labs:': 1}, 'present_illness': {'history of present illness:': 3, 'present illness:': 1}}, 'physician ': {'sexual_and_social_history': {'social history:': 222, 'sh:': 10}, 'observation_and_plan': {'a:': 115, 'assessment:': 10, 'plan:': 31, 'diagnoses:': 1, 'assessment and plan:': 17, 'impression:': 21, 'a/p:': 7, 'diagnosis:': 2, 'assesment:': 3, 'medical decision making:': 1}, 'labs_and_studies': {'labs:': 405, 'micro:': 14}, None: {None: 277}, 'past_medical_history': {'mhx': 34, 'mh': 76, 'history:': 17, 'medical history': 4, 'pmh:': 11, 'past medical history:': 8, 'past medical': 1, 'past medical history': 23, 'clinical history:': 2}, 'physical_exam': {'review of systems:': 8, 'physical examination': 19}, 'other': {'note:': 11}, 'family_history': {'family history:': 5}, 'medication': {'drugs:': 5, 'current medications:': 2, 'meds:': 1}, 'problem_list': {'problem list': 1}, 'allergy': {'allergies:': 3}}, 'social work': {'observation_and_plan': {'assessment:': 50, 'plan:': 3}, 'past_medical_history': {'history:': 49, 'mh': 2, 'medical hx': 2}, 'other': {'note:': 13}, None: {None: 26}, 'family_history': {'family history:': 5}, 'present_illness': {'history of present illness:': 1}}, 'respiratory ': {'observation_and_plan': {'assessment:': 1}, None: {None: 1}}, 'rehab services': {None: {None: 1}, 'past_medical_history': {'pmh:': 2, 'history:': 4}}, 'nutrition': {'past_medical_history': {'mhx': 8, 'mh': 14, 'pmh:': 1}, 'labs_and_studies': {'labs:': 3}}, 'consult': {'past_medical_history': {'past medical history:': 1}, 'sexual_and_social_history': {'social history:': 2}}, 'general': {None: {None: 10}, 'family_history': {'family history:': 1}, 'medication': {'meds:': 2}}, 'case management ': {'observation_and_plan': {'assessment:': 1}}, 'radiology': {'labs_and_studies': {'indication:': 32, 'clinical indication:': 1}, 'past_medical_history': {'history:': 21, 'clinical history:': 2}, None: {None: 16}, 'other': {'procedure:': 1}, 'observation_and_plan': {'diagnosis:': 119, 'impression ': 2}}, 'nursing/other': {None: {None: 405}, 'other': {'sp:': 79, 'note:': 50}, 'observation_and_plan': {'plan:': 75, 'a:': 32, 'a/p:': 15, 'assessment:': 1, 'impression ': 1}, 'allergy': {'allergy:': 5, 'allergy': 1, 'allergies:': 17}, 'past_medical_history': {'mhx': 13, 'mh': 69, 'pmh:': 38, 'past medical history': 3, 'medical hx': 1, 'medical history': 1}, 'medication': {'meds:': 3}, 'physical_exam': {'review of systems:': 14}, 'labs_and_studies': {'s/o:': 4, 'labs:': 3}, 'sexual_and_social_history': {'sh:': 3}}}\n",
    "pprint.pprint(section_guidelines)"
   ]
  },
  {
   "cell_type": "code",
   "execution_count": 3,
   "id": "a5562b1e",
   "metadata": {},
   "outputs": [
    {
     "data": {
      "text/plain": [
       "dict_keys(['discharge summary', 'echo', 'nursing', 'physician ', 'social work', 'respiratory ', 'rehab services', 'nutrition', 'consult', 'general', 'case management ', 'radiology', 'nursing/other'])"
      ]
     },
     "execution_count": 3,
     "metadata": {},
     "output_type": "execute_result"
    }
   ],
   "source": [
    "section_guidelines.keys()"
   ]
  },
  {
   "cell_type": "code",
   "execution_count": 5,
   "id": "lesbian-orange",
   "metadata": {},
   "outputs": [],
   "source": [
    "(SIDs, HADMIDs) = pkl.load(open('../resources/sids_hadmids.pkl', 'rb'))"
   ]
  },
  {
   "cell_type": "code",
   "execution_count": 6,
   "id": "10cbc323",
   "metadata": {},
   "outputs": [
    {
     "name": "stdout",
     "output_type": "stream",
     "text": [
      "697 665\n",
      "697 697\n"
     ]
    }
   ],
   "source": [
    "print(SIDs.__len__(), set(SIDs).__len__())\n",
    "print(HADMIDs.__len__(), set(HADMIDs).__len__())"
   ]
  },
  {
   "cell_type": "code",
   "execution_count": 7,
   "id": "9ecad9f2",
   "metadata": {},
   "outputs": [
    {
     "data": {
      "application/vnd.jupyter.widget-view+json": {
       "model_id": "2919bcd65aff48db93527b2f8bd2eda6",
       "version_major": 2,
       "version_minor": 0
      },
      "text/plain": [
       "0it [00:00, ?it/s]"
      ]
     },
     "metadata": {},
     "output_type": "display_data"
    },
    {
     "name": "stdout",
     "output_type": "stream",
     "text": [
      "FINISHED EXTRACTING DATA\n",
      "Total Files: 12759\n"
     ]
    }
   ],
   "source": [
    "with open(\"../resources/NOTEEVENTS.csv\", newline=\"\") as csvfile:\n",
    "    reader = csv.reader(csvfile)\n",
    "    sectionizer = TextSectionizer()\n",
    "\n",
    "    # based on sections we know contain suicide, extract all sections from notes to create annotation dataset\n",
    "    # attributes: ROW_ID,  SUBJECT_ID, HADM_ID, CHARTDATE, CHARTTIME, STORETIME, CATEGORY, DESCRIPTION, START_POS, END_POS\n",
    "    data = []\n",
    "    counter = 0\n",
    "    for row in tqdm(reader):\n",
    "        category = row[6].lower()\n",
    "\n",
    "        if row[6] == \"CATEGORY\" or not (category in section_guidelines):\n",
    "            continue\n",
    "        if (row[1] == '' or row[2] == ''):\n",
    "            continue\n",
    "        if int(row[1]) in SIDs and int(row[2]) in HADMIDs:\n",
    "            \n",
    "            sections = sectionizer(row[10])\n",
    "            extraction = \"\"\n",
    "            pos = []\n",
    "            for section_title, section_header, section_text in sections:\n",
    "                title =  None if section_title is None else section_title.lower()\n",
    "                header = None if section_header is None else section_header.lower()\n",
    "                text = section_text.lower()\n",
    "\n",
    "                if category in section_guidelines and title in section_guidelines[category] and header in section_guidelines[category][title]:\n",
    "                    extraction = extraction + \"\\n\\n\" + section_text\n",
    "                    start = row[10].index(section_text)\n",
    "                    pos.append((start, start + len(section_text)))\n",
    "                \n",
    "            # print(\"Category: \", category)\n",
    "            # print(\"Extracted text: \", extraction)\n",
    "            # print(\"*****\")\n",
    "            data.append([row[0], row[1], row[2], row[3], row[4], row[6], extraction, pos])\n",
    "\n",
    "            # print(\"Original: \", text)\n",
    "            # print(\"Verify: \", row[10][start: start + len(text)])\n",
    "    print(\"FINISHED EXTRACTING DATA\")\n",
    "    print(\"Total Files:\", data.__len__())"
   ]
  },
  {
   "cell_type": "code",
   "execution_count": 8,
   "id": "specified-wesley",
   "metadata": {},
   "outputs": [],
   "source": [
    "fields = [\"ROW_ID\",  \"SUBJECT_ID\", \"HADM_ID\", \"CHARTDATE\", \"CHARTTIME\", \"CATEGORY\", \"DESCRIPTION\", \"STARTEND_POSITIONS\"]\n",
    "with open(\"../resources/tmp_data.csv\", \"w\", newline=\"\") as dataset_csvfile:\n",
    "    csvwriter = csv.writer(dataset_csvfile)\n",
    "    csvwriter.writerow(fields)\n",
    "    csvwriter.writerows(data)"
   ]
  },
  {
   "cell_type": "code",
   "execution_count": null,
   "id": "936c1d00",
   "metadata": {},
   "outputs": [],
   "source": [
    "with open(\"../data/tmp_data.csv\", newline=\"\") as csvfile:\n",
    "    reader = csv.reader(csvfile)\n",
    "    dir = \"../corpus/\"\n",
    "    for row in tqdm(reader):\n",
    "        if \n",
    "        file_path = path.join(dir, str(row[1]) + \"_\" + str(row[2]))\n",
    "        if not path.exists(file_path):\n",
    "            f = open(file_path, \"w+\")\n",
    "            f.write(row[6])\n",
    "            f.close()\n",
    "        else:\n",
    "            f = open(file_path, \"a+\")\n",
    "            f.write(row[6])\n",
    "            f.close()"
   ]
  },
  {
   "cell_type": "code",
   "execution_count": 9,
   "id": "590d2ef4",
   "metadata": {},
   "outputs": [],
   "source": [
    "files_new = listdir('../corpus/')"
   ]
  },
  {
   "cell_type": "code",
   "execution_count": 11,
   "id": "380f91a0",
   "metadata": {},
   "outputs": [],
   "source": [
    "files_new = [x for x in files_new if 'SUBJECT' not in x]"
   ]
  },
  {
   "cell_type": "code",
   "execution_count": 13,
   "id": "0fedf629",
   "metadata": {},
   "outputs": [
    {
     "name": "stdout",
     "output_type": "stream",
     "text": [
      "Total Hospital Admissions: 697\n"
     ]
    }
   ],
   "source": [
    "print('Total Hospital Admissions:', files_new.__len__())"
   ]
  },
  {
   "cell_type": "code",
   "execution_count": null,
   "id": "nuclear-orleans",
   "metadata": {},
   "outputs": [],
   "source": []
  },
  {
   "cell_type": "code",
   "execution_count": null,
   "id": "historic-scholar",
   "metadata": {},
   "outputs": [],
   "source": []
  }
 ],
 "metadata": {
  "kernelspec": {
   "display_name": "Python 3",
   "language": "python",
   "name": "python3"
  },
  "language_info": {
   "codemirror_mode": {
    "name": "ipython",
    "version": 3
   },
   "file_extension": ".py",
   "mimetype": "text/x-python",
   "name": "python",
   "nbconvert_exporter": "python",
   "pygments_lexer": "ipython3",
   "version": "3.7.10"
  }
 },
 "nbformat": 4,
 "nbformat_minor": 5
}
